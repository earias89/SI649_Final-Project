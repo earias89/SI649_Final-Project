{
 "cells": [
  {
   "cell_type": "markdown",
   "metadata": {},
   "source": [
    "# SI649 Final Project - Narrative Visualization - Winter 2024"
   ]
  },
  {
   "cell_type": "markdown",
   "metadata": {},
   "source": [
    "For my final project, I used Google Co-Pilot to assist me with my code, and Chat GPT to help with code for some interactive features.\n",
    "Uniqname: ariaseri / Erika Arias"
   ]
  },
  {
   "cell_type": "markdown",
   "metadata": {},
   "source": [
    "### Project Title: Understanding Nonvoting: A Social Demographic Analysis"
   ]
  },
  {
   "cell_type": "markdown",
   "metadata": {},
   "source": [
    "## Project Summary\n",
    "\n",
    "I was interested developing my understanding of nonvoting behavior among U.S citizens. For this project I downloaded a publically accessible dataset from https://fivethirtyeight.com/ on nonvoters. This dataset was used in an article titled 'Why Many Americans Don't Vote' (https://projects.fivethirtyeight.com/non-voters-poll-2020-election/). I relied on Tableau to create my visualizations. "
   ]
  },
  {
   "cell_type": "markdown",
   "metadata": {},
   "source": [
    "## Data Source\n",
    "\n",
    "The data used for this project are publicly available on the Five Thirty Eight website. These data were downloaded from the website and were in CSV form. Even so much cleaning of the data was done below and saved into a new CSV file to use in Tableau.\n",
    "\n",
    "URL: https://data.fivethirtyeight.com/\n",
    "\n",
    "Format: CSV \n",
    "\n",
    "\n",
    "Dataset: non-voters\n",
    "\n",
    "\n",
    "Related Content: Why Millions Of Americans Don’t Vote (https://projects.fivethirtyeight.com/non-voters-poll-2020-election/)\n",
    "\n",
    "\n",
    "Last Updated: Oct. 26, 2020\n"
   ]
  },
  {
   "cell_type": "markdown",
   "metadata": {},
   "source": [
    "## Set Up\n",
    "### Import and load libraries"
   ]
  },
  {
   "cell_type": "code",
   "execution_count": 1,
   "metadata": {},
   "outputs": [],
   "source": [
    "import altair as alt\n",
    "import numpy as np\n",
    "import pandas as pd\n",
    "# import seaborn as sns\n",
    "import matplotlib.pyplot as plt\n",
    "# from scipy import stats"
   ]
  },
  {
   "cell_type": "markdown",
   "metadata": {},
   "source": [
    "## Read, Load, and Inspect"
   ]
  },
  {
   "cell_type": "code",
   "execution_count": 2,
   "metadata": {},
   "outputs": [],
   "source": [
    "file_path = './nonvoters_data.csv'\n",
    "nonvoter_data = pd.read_csv(file_path)"
   ]
  },
  {
   "cell_type": "markdown",
   "metadata": {},
   "source": [
    "## Recode Data "
   ]
  },
  {
   "cell_type": "markdown",
   "metadata": {},
   "source": [
    "#### Q1"
   ]
  },
  {
   "cell_type": "code",
   "execution_count": 3,
   "metadata": {},
   "outputs": [],
   "source": [
    "nonvoter_data['Q1'] = nonvoter_data['Q1'].replace({1: 'Yes', 2: 'No'})\n",
    "\n",
    "# Rename the column to 'Citizenship'\n",
    "nonvoter_data = nonvoter_data.rename(columns={'Q1': 'USCitizen'})"
   ]
  },
  {
   "cell_type": "markdown",
   "metadata": {},
   "source": [
    "### Q2 Questions: In your view, how important are each of the following to being a good American?"
   ]
  },
  {
   "cell_type": "markdown",
   "metadata": {},
   "source": [
    "#### Q2_1 - Importance of Voting in elections"
   ]
  },
  {
   "cell_type": "code",
   "execution_count": 4,
   "metadata": {},
   "outputs": [],
   "source": [
    "nonvoter_data['Q2_1'] = nonvoter_data['Q2_1'].replace({1: 'Very important', 2: 'Somewhat important', 3: 'Not so important', 4: 'Not at all important'})\n",
    "\n",
    "# Rename the column to 'Importance_Voting'\n",
    "nonvoter_data = nonvoter_data.rename(columns={'Q2_1': 'Importance_Voting'})"
   ]
  },
  {
   "cell_type": "markdown",
   "metadata": {},
   "source": [
    "#### Q2_2 - Importance of serving on a jury"
   ]
  },
  {
   "cell_type": "code",
   "execution_count": 5,
   "metadata": {},
   "outputs": [],
   "source": [
    "nonvoter_data['Q2_2'] = nonvoter_data['Q2_2'].replace({1: 'Very important', 2: 'Somewhat important', 3: 'Not so important', 4: 'Not at all important'})\n",
    "\n",
    "nonvoter_data = nonvoter_data.rename(columns={'Q2_2': 'Importance_jury'})"
   ]
  },
  {
   "cell_type": "markdown",
   "metadata": {},
   "source": [
    "#### Q2_3 - Importance of following what happens in government and politics"
   ]
  },
  {
   "cell_type": "code",
   "execution_count": 6,
   "metadata": {},
   "outputs": [],
   "source": [
    "nonvoter_data['Q2_3'] = nonvoter_data['Q2_3'].replace({1: 'Very important', 2: 'Somewhat important', 3: 'Not so important', 4: 'Not at all important'})\n",
    "\n",
    "# Rename the column to 'Importance_Voting'\n",
    "nonvoter_data = nonvoter_data.rename(columns={'Q2_3': 'Importance_govpolitics'})"
   ]
  },
  {
   "cell_type": "markdown",
   "metadata": {},
   "source": [
    "#### Q2_4 - Importance of displaying the American Flag"
   ]
  },
  {
   "cell_type": "code",
   "execution_count": 7,
   "metadata": {},
   "outputs": [],
   "source": [
    "nonvoter_data['Q2_4'] = nonvoter_data['Q2_4'].replace({1: 'Very important', 2: 'Somewhat important', 3: 'Not so important', 4: 'Not at all important'})\n",
    "\n",
    "# Rename the column to 'Importance_Voting'\n",
    "nonvoter_data = nonvoter_data.rename(columns={'Q2_4': 'Importance_flag'})"
   ]
  },
  {
   "cell_type": "markdown",
   "metadata": {},
   "source": [
    "#### Q2_5 - Importance of participating in the U.S. Census every ten years"
   ]
  },
  {
   "cell_type": "code",
   "execution_count": 8,
   "metadata": {},
   "outputs": [],
   "source": [
    "nonvoter_data['Q2_5'] = nonvoter_data['Q2_5'].replace({1: 'Very important', 2: 'Somewhat important', 3: 'Not so important', 4: 'Not at all important'})\n",
    "\n",
    "# Rename the column to 'Importance_Voting'\n",
    "nonvoter_data = nonvoter_data.rename(columns={'Q2_5': 'Importance_census'})"
   ]
  },
  {
   "cell_type": "markdown",
   "metadata": {},
   "source": [
    "#### Q2_6 - Importance of knowing the Pledge of Allegiance"
   ]
  },
  {
   "cell_type": "code",
   "execution_count": 9,
   "metadata": {},
   "outputs": [],
   "source": [
    "nonvoter_data['Q2_6'] = nonvoter_data['Q2_6'].replace({1: 'Very important', 2: 'Somewhat important', 3: 'Not so important', 4: 'Not at all important'})\n",
    "\n",
    "# Rename the column to 'Importance_Voting'\n",
    "nonvoter_data = nonvoter_data.rename(columns={'Q2_6': 'Importance_pledge'})"
   ]
  },
  {
   "cell_type": "markdown",
   "metadata": {},
   "source": [
    "#### Q2_7 - Importance of supporting the military"
   ]
  },
  {
   "cell_type": "code",
   "execution_count": 10,
   "metadata": {},
   "outputs": [],
   "source": [
    "nonvoter_data['Q2_7'] = nonvoter_data['Q2_7'].replace({1: 'Very important', 2: 'Somewhat important', 3: 'Not so important', 4: 'Not at all important'})\n",
    "\n",
    "# Rename the column to 'Importance_Voting'\n",
    "nonvoter_data = nonvoter_data.rename(columns={'Q2_7': 'Importance_military'})"
   ]
  },
  {
   "cell_type": "markdown",
   "metadata": {},
   "source": [
    "#### Q2_8 - Importance of respecting the opinions of those who disagree with you"
   ]
  },
  {
   "cell_type": "code",
   "execution_count": 11,
   "metadata": {},
   "outputs": [],
   "source": [
    "nonvoter_data['Q2_8'] = nonvoter_data['Q2_8'].replace({1: 'Very important', 2: 'Somewhat important', 3: 'Not so important', 4: 'Not at all important'})\n",
    "\n",
    "# Rename the column to 'Importance_Voting'\n",
    "nonvoter_data = nonvoter_data.rename(columns={'Q2_8': 'Importance_opinions'})"
   ]
  },
  {
   "cell_type": "markdown",
   "metadata": {},
   "source": [
    "#### Q2_9 - Importance of believing in God"
   ]
  },
  {
   "cell_type": "code",
   "execution_count": 12,
   "metadata": {},
   "outputs": [],
   "source": [
    "nonvoter_data['Q2_9'] = nonvoter_data['Q2_9'].replace({1: 'Very important', 2: 'Somewhat important', 3: 'Not so important', 4: 'Not at all important'})\n",
    "\n",
    "# Rename the column to 'Importance_Voting'\n",
    "nonvoter_data = nonvoter_data.rename(columns={'Q2_9': 'Importance_god'})"
   ]
  },
  {
   "cell_type": "markdown",
   "metadata": {},
   "source": [
    "#### Q2_10 - Importance of protesting if you believe government actions are wrong"
   ]
  },
  {
   "cell_type": "code",
   "execution_count": 13,
   "metadata": {},
   "outputs": [],
   "source": [
    "nonvoter_data['Q2_10'] = nonvoter_data['Q2_10'].replace({1: 'Very important', 2: 'Somewhat important', 3: 'Not so important', 4: 'Not at all important'})\n",
    "\n",
    "# Rename the column to 'Importance_Voting'\n",
    "nonvoter_data = nonvoter_data.rename(columns={'Q2_10': 'Importance_protesting'})"
   ]
  },
  {
   "cell_type": "markdown",
   "metadata": {},
   "source": [
    "#### Q3 Questions: How much do you agree or disagree with the following statements?"
   ]
  },
  {
   "cell_type": "markdown",
   "metadata": {},
   "source": [
    "#### Q3_1: ​Systemic racism is a problem in the United States"
   ]
  },
  {
   "cell_type": "code",
   "execution_count": 14,
   "metadata": {},
   "outputs": [],
   "source": [
    "nonvoter_data['Q3_1'] = nonvoter_data['Q3_1'].replace({1: 'Strongly agree', 2: 'Somewhat agree', 3: 'Somewhat disagree', 4: 'Strongly disagree'})\n",
    "\n",
    "# Rename the column \n",
    "nonvoter_data = nonvoter_data.rename(columns={'Q3_1': 'opinion_sysracism'})"
   ]
  },
  {
   "cell_type": "markdown",
   "metadata": {},
   "source": [
    "#### Q3_2: ​Systemic racism in policing is a bigger problem than violence and vandalism in protests"
   ]
  },
  {
   "cell_type": "code",
   "execution_count": 15,
   "metadata": {},
   "outputs": [],
   "source": [
    "nonvoter_data['Q3_2'] = nonvoter_data['Q3_2'].replace({1: 'Strongly agree', 2: 'Somewhat agree', 3: 'Somewhat disagree', 4: 'Strongly disagree'})\n",
    "\n",
    "# Rename the column \n",
    "nonvoter_data = nonvoter_data.rename(columns={'Q3_2': 'sysracism_policing'})"
   ]
  },
  {
   "cell_type": "markdown",
   "metadata": {},
   "source": [
    "#### Q3_3:  ​Society as a whole has become too soft and feminine"
   ]
  },
  {
   "cell_type": "code",
   "execution_count": 16,
   "metadata": {},
   "outputs": [],
   "source": [
    "nonvoter_data['Q3_3'] = nonvoter_data['Q3_3'].replace({1: 'Strongly agree', 2: 'Somewhat agree', 3: 'Somewhat disagree', 4: 'Strongly disagree'})\n",
    "\n",
    "# Rename the column \n",
    "nonvoter_data = nonvoter_data.rename(columns={'Q3_3': 'society_fem'})"
   ]
  },
  {
   "cell_type": "markdown",
   "metadata": {},
   "source": [
    "#### Q3_4:  ​The mainstream media is more interested in making money than telling the truth."
   ]
  },
  {
   "cell_type": "code",
   "execution_count": 17,
   "metadata": {},
   "outputs": [],
   "source": [
    "nonvoter_data['Q3_4'] = nonvoter_data['Q3_4'].replace({1: 'Strongly agree', 2: 'Somewhat agree', 3: 'Somewhat disagree', 4: 'Strongly disagree'})\n",
    "\n",
    "# Rename the column \n",
    "nonvoter_data = nonvoter_data.rename(columns={'Q3_4': 'media_money'})"
   ]
  },
  {
   "cell_type": "markdown",
   "metadata": {},
   "source": [
    "#### Q3_5: ​Traditional parties and politicians don’t care about people like me. "
   ]
  },
  {
   "cell_type": "code",
   "execution_count": 18,
   "metadata": {},
   "outputs": [],
   "source": [
    "nonvoter_data['Q3_5'] = nonvoter_data['Q3_5'].replace({1: 'Strongly agree', 2: 'Somewhat agree', 3: 'Somewhat disagree', 4: 'Strongly disagree'})\n",
    "\n",
    "# Rename the column \n",
    "nonvoter_data = nonvoter_data.rename(columns={'Q3_5': 'polit_care'})"
   ]
  },
  {
   "cell_type": "markdown",
   "metadata": {},
   "source": [
    "#### Q3_6: The way people talk needs to change with the times to be more sensitive to people with different backgrounds. "
   ]
  },
  {
   "cell_type": "code",
   "execution_count": 19,
   "metadata": {},
   "outputs": [],
   "source": [
    "nonvoter_data['Q3_6'] = nonvoter_data['Q3_6'].replace({1: 'Strongly agree', 2: 'Somewhat agree', 3: 'Somewhat disagree', 4: 'Strongly disagree'})\n",
    "\n",
    "# Rename the column \n",
    "nonvoter_data = nonvoter_data.rename(columns={'Q3_6': 'talk_change'})"
   ]
  },
  {
   "cell_type": "markdown",
   "metadata": {},
   "source": [
    "### Q4 Questions: How much of an impact, if any, do each of the following have on your life? "
   ]
  },
  {
   "cell_type": "markdown",
   "metadata": {},
   "source": [
    "#### Q4_1: ​Elected officials in Washington, D.C. (e.g. the president, member of Congress)"
   ]
  },
  {
   "cell_type": "code",
   "execution_count": 20,
   "metadata": {},
   "outputs": [],
   "source": [
    "nonvoter_data['Q4_1'] = nonvoter_data['Q4_1'].replace({1: 'A significant impact', 2: 'Somewhat of an impact', 3: 'Just a slight impact', 4: 'No impact at all'})\n",
    "\n",
    "# Rename the column \n",
    "nonvoter_data = nonvoter_data.rename(columns={'Q4_1': 'elected_DC'})"
   ]
  },
  {
   "cell_type": "markdown",
   "metadata": {},
   "source": [
    "#### Q4_2: ​Elected officials in my state (e.g. governor, state representative)"
   ]
  },
  {
   "cell_type": "code",
   "execution_count": 21,
   "metadata": {},
   "outputs": [],
   "source": [
    "nonvoter_data['Q4_2'] = nonvoter_data['Q4_2'].replace({1: 'A significant impact', 2: 'Somewhat of an impact', 3: 'Just a slight impact', 4: 'No impact at all'})\n",
    "\n",
    "# Rename the column \n",
    "nonvoter_data = nonvoter_data.rename(columns={'Q4_2': 'elected_state'})"
   ]
  },
  {
   "cell_type": "markdown",
   "metadata": {},
   "source": [
    "#### Q4_3: ​Elected officials in my city or community (e.g. mayor, city council)"
   ]
  },
  {
   "cell_type": "code",
   "execution_count": 22,
   "metadata": {},
   "outputs": [],
   "source": [
    "nonvoter_data['Q4_3'] = nonvoter_data['Q4_3'].replace({1: 'A significant impact', 2: 'Somewhat of an impact', 3: 'Just a slight impact', 4: 'No impact at all'})\n",
    "\n",
    "# Rename the column \n",
    "nonvoter_data = nonvoter_data.rename(columns={'Q4_3': 'elected_city'})"
   ]
  },
  {
   "cell_type": "markdown",
   "metadata": {},
   "source": [
    "#### Q4_4: ​The news media"
   ]
  },
  {
   "cell_type": "code",
   "execution_count": 23,
   "metadata": {},
   "outputs": [],
   "source": [
    "nonvoter_data['Q4_4'] = nonvoter_data['Q4_4'].replace({1: 'A significant impact', 2: 'Somewhat of an impact', 3: 'Just a slight impact', 4: 'No impact at all'})\n",
    "\n",
    "# Rename the column \n",
    "nonvoter_data = nonvoter_data.rename(columns={'Q4_4': 'news_media'})"
   ]
  },
  {
   "cell_type": "markdown",
   "metadata": {},
   "source": [
    "#### Q4_5: Large financial institutions on Wall Street"
   ]
  },
  {
   "cell_type": "code",
   "execution_count": 24,
   "metadata": {},
   "outputs": [],
   "source": [
    "nonvoter_data['Q4_5'] = nonvoter_data['Q4_5'].replace({1: 'A significant impact', 2: 'Somewhat of an impact', 3: 'Just a slight impact', 4: 'No impact at all'})\n",
    "\n",
    "# Rename the column \n",
    "nonvoter_data = nonvoter_data.rename(columns={'Q4_5': 'finance_wallstreet'})"
   ]
  },
  {
   "cell_type": "markdown",
   "metadata": {},
   "source": [
    "#### Q4_6: Law enforcement and the legal system"
   ]
  },
  {
   "cell_type": "code",
   "execution_count": 25,
   "metadata": {},
   "outputs": [],
   "source": [
    "nonvoter_data['Q4_6'] = nonvoter_data['Q4_6'].replace({1: 'A significant impact', 2: 'Somewhat of an impact', 3: 'Just a slight impact', 4: 'No impact at all'})\n",
    "\n",
    "# Rename the column \n",
    "nonvoter_data = nonvoter_data.rename(columns={'Q4_6': 'law_enforcement'})"
   ]
  },
  {
   "cell_type": "markdown",
   "metadata": {},
   "source": [
    "### Q5 Questions: As far as making progress on the important issues facing the country, does it really matter who wins the 2020 presidential election, or will things be pretty much the same regardless of who is elected president? "
   ]
  },
  {
   "cell_type": "code",
   "execution_count": 26,
   "metadata": {},
   "outputs": [],
   "source": [
    "nonvoter_data['Q5'] = nonvoter_data['Q5'].replace({1: 'Who wins the election really matters', 2: 'Things will be pretty much the same'})\n",
    "\n",
    "# Rename the column \n",
    "nonvoter_data = nonvoter_data.rename(columns={'Q5': '2020elect_matter'})"
   ]
  },
  {
   "cell_type": "markdown",
   "metadata": {},
   "source": [
    "### Q6: In general, how many of the people in elected office today are like you"
   ]
  },
  {
   "cell_type": "code",
   "execution_count": 27,
   "metadata": {},
   "outputs": [],
   "source": [
    "nonvoter_data['Q6'] = nonvoter_data['Q6'].replace({1: 'A lot', 2: 'Some', 3:'Only a few', 4: 'None'})\n",
    "\n",
    "# Rename the column \n",
    "nonvoter_data = nonvoter_data.rename(columns={'Q6': 'elect_likeme'})"
   ]
  },
  {
   "cell_type": "markdown",
   "metadata": {},
   "source": [
    "### Q7: Thinking about the design and structure of American government, which would you say is more in line with your view?"
   ]
  },
  {
   "cell_type": "code",
   "execution_count": 28,
   "metadata": {},
   "outputs": [],
   "source": [
    "nonvoter_data['Q7'] = nonvoter_data['Q7'].replace({1: 'A lot of changes are needed', 2: 'Changes are not really needed'})\n",
    "\n",
    "# Rename the column \n",
    "nonvoter_data = nonvoter_data.rename(columns={'Q7': 'govt_changes'})"
   ]
  },
  {
   "cell_type": "markdown",
   "metadata": {},
   "source": [
    "### Q8 Questions: How much would you say you trust each of the following?  "
   ]
  },
  {
   "cell_type": "markdown",
   "metadata": {},
   "source": [
    "#### Q8_1 - The presidency "
   ]
  },
  {
   "cell_type": "code",
   "execution_count": 29,
   "metadata": {},
   "outputs": [],
   "source": [
    "nonvoter_data['Q8_1'] = nonvoter_data['Q8_1'].replace({1: 'A lot', 2: 'Some', 3:'Not much', 4: 'Not at all'})\n",
    "\n",
    "# Rename the column \n",
    "nonvoter_data = nonvoter_data.rename(columns={'Q8_1': 'trust_presidency'})"
   ]
  },
  {
   "cell_type": "markdown",
   "metadata": {},
   "source": [
    "#### Q8_2 - Congress"
   ]
  },
  {
   "cell_type": "code",
   "execution_count": 30,
   "metadata": {},
   "outputs": [],
   "source": [
    "nonvoter_data['Q8_2'] = nonvoter_data['Q8_2'].replace({1: 'A lot', 2: 'Some', 3:'Not much', 4: 'Not at all'})\n",
    "\n",
    "# Rename the column \n",
    "nonvoter_data = nonvoter_data.rename(columns={'Q8_2': 'trust_congress'})"
   ]
  },
  {
   "cell_type": "markdown",
   "metadata": {},
   "source": [
    "#### Q8_3 - The Supreme Court"
   ]
  },
  {
   "cell_type": "code",
   "execution_count": 31,
   "metadata": {},
   "outputs": [],
   "source": [
    "nonvoter_data['Q8_3'] = nonvoter_data['Q8_3'].replace({1: 'A lot', 2: 'Some', 3:'Not much', 4: 'Not at all'})\n",
    "\n",
    "# Rename the column \n",
    "nonvoter_data = nonvoter_data.rename(columns={'Q8_3': 'trust_supcourt'})"
   ]
  },
  {
   "cell_type": "markdown",
   "metadata": {},
   "source": [
    "#### Q8_4 - The Centers for Disease Control (CDC)"
   ]
  },
  {
   "cell_type": "code",
   "execution_count": 32,
   "metadata": {},
   "outputs": [],
   "source": [
    "nonvoter_data['Q8_4'] = nonvoter_data['Q8_4'].replace({1: 'A lot', 2: 'Some', 3:'Not much', 4: 'Not at all'})\n",
    "\n",
    "# Rename the column \n",
    "nonvoter_data = nonvoter_data.rename(columns={'Q8_4': 'trust_cdc'})"
   ]
  },
  {
   "cell_type": "markdown",
   "metadata": {},
   "source": [
    "#### Q8_5 - Election officials "
   ]
  },
  {
   "cell_type": "code",
   "execution_count": 33,
   "metadata": {},
   "outputs": [],
   "source": [
    "nonvoter_data['Q8_5'] = nonvoter_data['Q8_5'].replace({1: 'A lot', 2: 'Some', 3:'Not much', 4: 'Not at all'})\n",
    "\n",
    "# Rename the column \n",
    "nonvoter_data = nonvoter_data.rename(columns={'Q8_5': 'trust_electoffs'})"
   ]
  },
  {
   "cell_type": "markdown",
   "metadata": {},
   "source": [
    "#### Q8_6 - The intelligence community (e.g. FBI or CIA)"
   ]
  },
  {
   "cell_type": "code",
   "execution_count": 34,
   "metadata": {},
   "outputs": [],
   "source": [
    "nonvoter_data['Q8_6'] = nonvoter_data['Q8_6'].replace({1: 'A lot', 2: 'Some', 3:'Not much', 4: 'Not at all'})\n",
    "\n",
    "# Rename the column \n",
    "nonvoter_data = nonvoter_data.rename(columns={'Q8_6': 'trust_fbi'})"
   ]
  },
  {
   "cell_type": "markdown",
   "metadata": {},
   "source": [
    "#### Q8_7 - The news media"
   ]
  },
  {
   "cell_type": "code",
   "execution_count": 35,
   "metadata": {},
   "outputs": [],
   "source": [
    "nonvoter_data['Q8_7'] = nonvoter_data['Q8_7'].replace({1: 'A lot', 2: 'Some', 3:'Not much', 4: 'Not at all'})\n",
    "\n",
    "# Rename the column \n",
    "nonvoter_data = nonvoter_data.rename(columns={'Q8_7': 'trust_media'})"
   ]
  },
  {
   "cell_type": "markdown",
   "metadata": {},
   "source": [
    "#### Q8_8 - The police"
   ]
  },
  {
   "cell_type": "code",
   "execution_count": 36,
   "metadata": {},
   "outputs": [],
   "source": [
    "nonvoter_data['Q8_8'] = nonvoter_data['Q8_8'].replace({1: 'A lot', 2: 'Some', 3:'Not much', 4: 'Not at all'})\n",
    "\n",
    "# Rename the column \n",
    "nonvoter_data = nonvoter_data.rename(columns={'Q8_8': 'trust_police'})"
   ]
  },
  {
   "cell_type": "markdown",
   "metadata": {},
   "source": [
    "#### Q8_9 - The US Postal Service "
   ]
  },
  {
   "cell_type": "code",
   "execution_count": 37,
   "metadata": {},
   "outputs": [],
   "source": [
    "nonvoter_data['Q8_9'] = nonvoter_data['Q8_9'].replace({1: 'A lot', 2: 'Some', 3:'Not much', 4: 'Not at all'})\n",
    "\n",
    "# Rename the column \n",
    "nonvoter_data = nonvoter_data.rename(columns={'Q8_9': 'trust_postalserv'})"
   ]
  },
  {
   "cell_type": "markdown",
   "metadata": {},
   "source": [
    "### Q9 Questions: Now, we’re going to describe various types of political systems and ask what you think about each as a way of governing this country?"
   ]
  },
  {
   "cell_type": "markdown",
   "metadata": {},
   "source": [
    "#### Q9_1 - Having a democracy, where politicians are elected \n"
   ]
  },
  {
   "cell_type": "code",
   "execution_count": 38,
   "metadata": {},
   "outputs": [],
   "source": [
    "nonvoter_data['Q9_1'] = nonvoter_data['Q9_1'].replace({1: 'Very good way of governing the country', 2: 'Fairly good way of governing the country', 3:'Fairly bad way of governing the country', 4: 'Very bad way of governing the country'})\n",
    "\n",
    "# Rename the column \n",
    "nonvoter_data = nonvoter_data.rename(columns={'Q9_1': 'opinion_democracy'})"
   ]
  },
  {
   "cell_type": "markdown",
   "metadata": {},
   "source": [
    "#### Q9_2 - Having experts, not government, make decisions according to what they think is best for the county\n"
   ]
  },
  {
   "cell_type": "code",
   "execution_count": 39,
   "metadata": {},
   "outputs": [],
   "source": [
    "nonvoter_data['Q9_2'] = nonvoter_data['Q9_2'].replace({1: 'Very good way of governing the country', 2: 'Fairly good way of governing the country', 3:'Fairly bad way of governing the country', 4: 'Very bad way of governing the country'})\n",
    "\n",
    "# Rename the column \n",
    "nonvoter_data = nonvoter_data.rename(columns={'Q9_2': 'opinion_experts'})"
   ]
  },
  {
   "cell_type": "markdown",
   "metadata": {},
   "source": [
    "#### Q9_3 - Having a strong leader who does not have to work with Congress and elections"
   ]
  },
  {
   "cell_type": "code",
   "execution_count": 40,
   "metadata": {},
   "outputs": [],
   "source": [
    "nonvoter_data['Q9_3'] = nonvoter_data['Q9_3'].replace({1: 'Very good way of governing the country', 2: 'Fairly good way of governing the country', 3:'Fairly bad way of governing the country', 4: 'Very bad way of governing the country'})\n",
    "\n",
    "# Rename the column \n",
    "nonvoter_data = nonvoter_data.rename(columns={'Q9_3': 'opinion_leader'})"
   ]
  },
  {
   "cell_type": "markdown",
   "metadata": {},
   "source": [
    "#### Q9_4 - Having the army rule\n"
   ]
  },
  {
   "cell_type": "code",
   "execution_count": 41,
   "metadata": {},
   "outputs": [],
   "source": [
    "nonvoter_data['Q9_4'] = nonvoter_data['Q9_4'].replace({1: 'Very good way of governing the country', 2: 'Fairly good way of governing the country', 3:'Fairly bad way of governing the country', 4: 'Very bad way of governing the country'})\n",
    "\n",
    "# Rename the column \n",
    "nonvoter_data = nonvoter_data.rename(columns={'Q9_4': 'opinion_armyrule'})"
   ]
  },
  {
   "cell_type": "markdown",
   "metadata": {},
   "source": []
  },
  {
   "cell_type": "markdown",
   "metadata": {},
   "source": [
    "### Q10 Questions:  Do any of the following currently apply to you?  "
   ]
  },
  {
   "cell_type": "markdown",
   "metadata": {},
   "source": [
    "#### Q10_1 -  ​Receiving long-term disability "
   ]
  },
  {
   "cell_type": "code",
   "execution_count": 42,
   "metadata": {},
   "outputs": [],
   "source": [
    "nonvoter_data['Q10_1'] = nonvoter_data['Q10_1'].replace({1: 'Yes', 2: 'No'})\n",
    "\n",
    "# Rename the column \n",
    "nonvoter_data = nonvoter_data.rename(columns={'Q10_1': 'applies_disability'})"
   ]
  },
  {
   "cell_type": "markdown",
   "metadata": {},
   "source": [
    "#### Q10_2 -  Have a chronic illness"
   ]
  },
  {
   "cell_type": "code",
   "execution_count": 43,
   "metadata": {},
   "outputs": [],
   "source": [
    "nonvoter_data['Q10_2'] = nonvoter_data['Q10_2'].replace({1: 'Yes', 2: 'No'})\n",
    "\n",
    "# Rename the column \n",
    "nonvoter_data = nonvoter_data.rename(columns={'Q10_2': 'applies_chroillness'})"
   ]
  },
  {
   "cell_type": "markdown",
   "metadata": {},
   "source": [
    "#### Q10_3 -  Been unemployed for more than a year"
   ]
  },
  {
   "cell_type": "code",
   "execution_count": 44,
   "metadata": {},
   "outputs": [],
   "source": [
    "nonvoter_data['Q10_3'] = nonvoter_data['Q10_3'].replace({1: 'Yes', 2: 'No'})\n",
    "\n",
    "# Rename the column \n",
    "nonvoter_data = nonvoter_data.rename(columns={'Q10_3': 'applies_unemployed'})"
   ]
  },
  {
   "cell_type": "markdown",
   "metadata": {},
   "source": [
    "#### Q10_4 -  Have been evicted from your home within the past year"
   ]
  },
  {
   "cell_type": "code",
   "execution_count": 45,
   "metadata": {},
   "outputs": [],
   "source": [
    "nonvoter_data['Q10_4'] = nonvoter_data['Q10_4'].replace({1: 'Yes', 2: 'No'})\n",
    "\n",
    "# Rename the column \n",
    "nonvoter_data = nonvoter_data.rename(columns={'Q10_4': 'applies_evicted'})"
   ]
  },
  {
   "cell_type": "markdown",
   "metadata": {},
   "source": [
    "### Q11 Questions: Since February of 2020, have any of the following things happened to you?  "
   ]
  },
  {
   "cell_type": "markdown",
   "metadata": {},
   "source": [
    "#### Q11_1 -  Lost your job, either temporarily or permanently "
   ]
  },
  {
   "cell_type": "code",
   "execution_count": 46,
   "metadata": {},
   "outputs": [],
   "source": [
    "nonvoter_data['Q11_1'] = nonvoter_data['Q11_1'].replace({1: 'Yes', 2: 'No'})\n",
    "\n",
    "# Rename the column \n",
    "nonvoter_data = nonvoter_data.rename(columns={'Q11_1': 'lostjob_since2020'})"
   ]
  },
  {
   "cell_type": "markdown",
   "metadata": {},
   "source": [
    "#### Q11_2 -  Tested positive for COVID-19"
   ]
  },
  {
   "cell_type": "code",
   "execution_count": 47,
   "metadata": {},
   "outputs": [],
   "source": [
    "nonvoter_data['Q11_2'] = nonvoter_data['Q11_2'].replace({1: 'Yes', 2: 'No'})\n",
    "\n",
    "# Rename the column \n",
    "nonvoter_data = nonvoter_data.rename(columns={'Q11_2': 'COVID_since2020'})"
   ]
  },
  {
   "cell_type": "markdown",
   "metadata": {},
   "source": [
    "#### Q11_3 -  Had a friend or family member test positive for COVID-19"
   ]
  },
  {
   "cell_type": "code",
   "execution_count": 48,
   "metadata": {},
   "outputs": [],
   "source": [
    "nonvoter_data['Q11_3'] = nonvoter_data['Q11_3'].replace({1: 'Yes', 2: 'No'})\n",
    "\n",
    "# Rename the column \n",
    "nonvoter_data = nonvoter_data.rename(columns={'Q11_3': 'COVIDfam_since2020'})"
   ]
  },
  {
   "cell_type": "markdown",
   "metadata": {},
   "source": [
    "#### Q11_4 - Had a friend or family member die of COVID-19  "
   ]
  },
  {
   "cell_type": "code",
   "execution_count": 49,
   "metadata": {},
   "outputs": [],
   "source": [
    "nonvoter_data['Q11_4'] = nonvoter_data['Q11_4'].replace({1: 'Yes', 2: 'No'})\n",
    "\n",
    "# Rename the column \n",
    "nonvoter_data = nonvoter_data.rename(columns={'Q11_4': 'COVIDfamdie_since2020'})"
   ]
  },
  {
   "cell_type": "markdown",
   "metadata": {},
   "source": [
    "#### Q11_5 -  Worried about how you would pay for your rent or mortgage, for groceries, or health care expenses "
   ]
  },
  {
   "cell_type": "code",
   "execution_count": 50,
   "metadata": {},
   "outputs": [],
   "source": [
    "nonvoter_data['Q11_5'] = nonvoter_data['Q11_5'].replace({1: 'Yes', 2: 'No'})\n",
    "\n",
    "# Rename the column \n",
    "nonvoter_data = nonvoter_data.rename(columns={'Q11_5': 'worrypay_since2020'})"
   ]
  },
  {
   "cell_type": "markdown",
   "metadata": {},
   "source": [
    "#### Q11_6 - Quit your job to care for a child or family member"
   ]
  },
  {
   "cell_type": "code",
   "execution_count": 51,
   "metadata": {},
   "outputs": [],
   "source": [
    "nonvoter_data['Q11_6'] = nonvoter_data['Q11_6'].replace({1: 'Yes', 2: 'No'})\n",
    "\n",
    "# Rename the column \n",
    "nonvoter_data = nonvoter_data.rename(columns={'Q11_6': 'quitjob_since2020'})"
   ]
  },
  {
   "cell_type": "markdown",
   "metadata": {},
   "source": [
    "### Q12:"
   ]
  },
  {
   "cell_type": "markdown",
   "metadata": {},
   "source": [
    "### Q13:"
   ]
  },
  {
   "cell_type": "markdown",
   "metadata": {},
   "source": [
    "### Q14: Based on your perceptions and experiences of the Republican Party, which is the most accurate description of the party’s attitude toward people like you?"
   ]
  },
  {
   "cell_type": "code",
   "execution_count": 52,
   "metadata": {},
   "outputs": [],
   "source": [
    "nonvoter_data['Q14'] = nonvoter_data['Q14'].replace({1: 'The Republican Party wants people like me to vote and works hard to earn our vote', 2: 'The Republican Party wants people like me to vote but does not work hard to earn our votes', 3: 'The Republican Party does not care whether or not people like me vote', 4: 'The Republican Party does not want people like me to vote, but does not work hard to keep us from voting', 5: ' ​The Republican Party does not want people like me to vote, and works hard to keep us from being able to vote'})\n",
    "\n",
    "# Rename the column \n",
    "nonvoter_data = nonvoter_data.rename(columns={'Q14': 'percep_repubparty'})"
   ]
  },
  {
   "cell_type": "markdown",
   "metadata": {},
   "source": [
    "#### Q15 Questions: Based on your perceptions and experiences of the Democratic Party, which is the most accurate description of the party’s attitude toward people like you?"
   ]
  },
  {
   "cell_type": "code",
   "execution_count": 53,
   "metadata": {},
   "outputs": [],
   "source": [
    "nonvoter_data['Q15'] = nonvoter_data['Q15'].replace({1: 'The Democratic Party wants people like me to vote and works hard to earn our vote', 2: 'The Democratic Party wants people like me to vote but does not work hard to earn our votes', 3: 'The Democratic Party does not care whether or not people like me vote', 4: 'The Democratic Party does not want people like me to vote, but does not work hard to keep us from voting', 5: ' ​The Democratic Party does not want people like me to vote, and works hard to keep us from being able to vote'})\n",
    "\n",
    "# Rename the column \n",
    "nonvoter_data = nonvoter_data.rename(columns={'Q15': 'percep_demparty'})"
   ]
  },
  {
   "cell_type": "markdown",
   "metadata": {},
   "source": [
    "### Q16: In general, how easy or difficult do you think it is to vote in national elections?"
   ]
  },
  {
   "cell_type": "code",
   "execution_count": 54,
   "metadata": {},
   "outputs": [],
   "source": [
    "nonvoter_data['Q16'] = nonvoter_data['Q16'].replace({1: 'Very easy', 2: 'Somewhat easy', 3: 'Somewhat difficult', 4: 'Very difficult'})\n",
    "\n",
    "# Rename the column \n",
    "nonvoter_data = nonvoter_data.rename(columns={'Q16': 'ease_voting'})"
   ]
  },
  {
   "cell_type": "markdown",
   "metadata": {},
   "source": [
    "### Q17 Questions: When thinking about a presidential election, how confident are you that each of these ways of voting are secure and safe from fraud?"
   ]
  },
  {
   "cell_type": "markdown",
   "metadata": {},
   "source": [
    "#### Q17_1 - In-person voting machines"
   ]
  },
  {
   "cell_type": "code",
   "execution_count": 55,
   "metadata": {},
   "outputs": [],
   "source": [
    "nonvoter_data['Q17_1'] = nonvoter_data['Q17_1'].replace({1: 'Very confident', 2: 'Somewhat confident', 3: 'Not very confident', 4: 'Not confident at all'})\n",
    "\n",
    "# Rename the column \n",
    "nonvoter_data = nonvoter_data.rename(columns={'Q17_1': 'confident_ipvoting'})"
   ]
  },
  {
   "cell_type": "markdown",
   "metadata": {},
   "source": [
    "#### Q17_2 - Paper ballots cast in person "
   ]
  },
  {
   "cell_type": "code",
   "execution_count": 56,
   "metadata": {},
   "outputs": [],
   "source": [
    "nonvoter_data['Q17_2'] = nonvoter_data['Q17_2'].replace({1: 'Very confident', 2: 'Somewhat confident', 3: 'Not very confident', 4: 'Not confident at all'})\n",
    "\n",
    "# Rename the column \n",
    "nonvoter_data = nonvoter_data.rename(columns={'Q17_2': 'confident_paperballots'})"
   ]
  },
  {
   "cell_type": "markdown",
   "metadata": {},
   "source": [
    "#### Q17_3 - Paper ballots submitted by mail"
   ]
  },
  {
   "cell_type": "code",
   "execution_count": 57,
   "metadata": {},
   "outputs": [],
   "source": [
    "nonvoter_data['Q17_3'] = nonvoter_data['Q17_3'].replace({1: 'Very confident', 2: 'Somewhat confident', 3: 'Not very confident', 4: 'Not confident at all'})\n",
    "\n",
    "# Rename the column \n",
    "nonvoter_data = nonvoter_data.rename(columns={'Q17_3': 'confident_mailballots'})"
   ]
  },
  {
   "cell_type": "markdown",
   "metadata": {},
   "source": [
    "#### Q17_4 - Electronic votes submitted online or by email "
   ]
  },
  {
   "cell_type": "code",
   "execution_count": 58,
   "metadata": {},
   "outputs": [],
   "source": [
    "nonvoter_data['Q17_4'] = nonvoter_data['Q17_4'].replace({1: 'Very confident', 2: 'Somewhat confident', 3: 'Not very confident', 4: 'Not confident at all'})\n",
    "\n",
    "# Rename the column \n",
    "nonvoter_data = nonvoter_data.rename(columns={'Q17_4': 'confident_evotes'})"
   ]
  },
  {
   "cell_type": "markdown",
   "metadata": {},
   "source": [
    "### Q18 Questions: Have you or any members of your household ​ever​ experienced the following situations when trying to vote?"
   ]
  },
  {
   "cell_type": "markdown",
   "metadata": {},
   "source": [
    "#### Q18_1 - Was told they did not have the correct identification"
   ]
  },
  {
   "cell_type": "code",
   "execution_count": 59,
   "metadata": {},
   "outputs": [],
   "source": [
    "nonvoter_data['Q18_1'] = nonvoter_data['Q18_1'].replace({1: 'Yes', 2: 'No'})\n",
    "\n",
    "# Rename the column \n",
    "nonvoter_data = nonvoter_data.rename(columns={'Q18_1': 'exp_incorrectID'})"
   ]
  },
  {
   "cell_type": "markdown",
   "metadata": {},
   "source": [
    "#### Q18_2 - Could not find the polling place"
   ]
  },
  {
   "cell_type": "code",
   "execution_count": 60,
   "metadata": {},
   "outputs": [],
   "source": [
    "nonvoter_data['Q18_2'] = nonvoter_data['Q18_2'].replace({1: 'Yes', 2: 'No'})\n",
    "\n",
    "# Rename the column \n",
    "nonvoter_data = nonvoter_data.rename(columns={'Q18_2': 'exp_lostpolling'})"
   ]
  },
  {
   "cell_type": "markdown",
   "metadata": {},
   "source": [
    "#### Q18_3 - Missed the voter registration deadline"
   ]
  },
  {
   "cell_type": "code",
   "execution_count": 61,
   "metadata": {},
   "outputs": [],
   "source": [
    "nonvoter_data['Q18_3'] = nonvoter_data['Q18_3'].replace({1: 'Yes', 2: 'No'})\n",
    "\n",
    "# Rename the column \n",
    "nonvoter_data = nonvoter_data.rename(columns={'Q18_3': 'exp_deadlinemiss'})"
   ]
  },
  {
   "cell_type": "markdown",
   "metadata": {},
   "source": [
    "#### Q18_4 - Was unable to physically access the polling place"
   ]
  },
  {
   "cell_type": "code",
   "execution_count": 62,
   "metadata": {},
   "outputs": [],
   "source": [
    "nonvoter_data['Q18_4'] = nonvoter_data['Q18_4'].replace({1: 'Yes', 2: 'No'})\n",
    "\n",
    "# Rename the column \n",
    "nonvoter_data = nonvoter_data.rename(columns={'Q18_4': 'exp_phyaccess'})"
   ]
  },
  {
   "cell_type": "markdown",
   "metadata": {},
   "source": [
    "#### Q18_5 - Could not obtain necessary assistance to fill out a ballot "
   ]
  },
  {
   "cell_type": "code",
   "execution_count": 63,
   "metadata": {},
   "outputs": [],
   "source": [
    "nonvoter_data['Q18_5'] = nonvoter_data['Q18_5'].replace({1: 'Yes', 2: 'No'})\n",
    "\n",
    "# Rename the column \n",
    "nonvoter_data = nonvoter_data.rename(columns={'Q18_5': 'exp_noasst'})"
   ]
  },
  {
   "cell_type": "markdown",
   "metadata": {},
   "source": [
    "#### Q18_6 - Had to cast a provisional ballot"
   ]
  },
  {
   "cell_type": "code",
   "execution_count": 64,
   "metadata": {},
   "outputs": [],
   "source": [
    "nonvoter_data['Q18_6'] = nonvoter_data['Q18_6'].replace({1: 'Yes', 2: 'No'})\n",
    "\n",
    "# Rename the column \n",
    "nonvoter_data = nonvoter_data.rename(columns={'Q18_6': 'exp_provballot'})"
   ]
  },
  {
   "cell_type": "markdown",
   "metadata": {},
   "source": [
    "#### Q18_7 - Couldn’t get off work to vote when polls were open"
   ]
  },
  {
   "cell_type": "code",
   "execution_count": 65,
   "metadata": {},
   "outputs": [],
   "source": [
    "nonvoter_data['Q18_7'] = nonvoter_data['Q18_7'].replace({1: 'Yes', 2: 'No'})\n",
    "\n",
    "# Rename the column \n",
    "nonvoter_data = nonvoter_data.rename(columns={'Q18_7': 'exp_offwork'})"
   ]
  },
  {
   "cell_type": "markdown",
   "metadata": {},
   "source": [
    "#### Q18_8 - Waited in line to vote for more than an hour "
   ]
  },
  {
   "cell_type": "code",
   "execution_count": 66,
   "metadata": {},
   "outputs": [],
   "source": [
    "nonvoter_data['Q18_8'] = nonvoter_data['Q18_8'].replace({1: 'Yes', 2: 'No'})\n",
    "\n",
    "# Rename the column \n",
    "nonvoter_data = nonvoter_data.rename(columns={'Q18_8': 'exp_linehour'})"
   ]
  },
  {
   "cell_type": "markdown",
   "metadata": {},
   "source": [
    "#### Q18_9 - Was told name was not on the list even though they were registered"
   ]
  },
  {
   "cell_type": "code",
   "execution_count": 67,
   "metadata": {},
   "outputs": [],
   "source": [
    "nonvoter_data['Q18_9'] = nonvoter_data['Q18_9'].replace({1: 'Yes', 2: 'No'})\n",
    "\n",
    "# Rename the column \n",
    "nonvoter_data = nonvoter_data.rename(columns={'Q18_9': 'exp_notlisted'})"
   ]
  },
  {
   "cell_type": "markdown",
   "metadata": {},
   "source": [
    "#### Q18_10 - Did not receive absentee or mail-in ballot in time"
   ]
  },
  {
   "cell_type": "code",
   "execution_count": 68,
   "metadata": {},
   "outputs": [],
   "source": [
    "nonvoter_data['Q18_10'] = nonvoter_data['Q18_10'].replace({1: 'Yes', 2: 'No'})\n",
    "\n",
    "# Rename the column \n",
    "nonvoter_data = nonvoter_data.rename(columns={'Q18_10': 'exp_noabsent'})"
   ]
  },
  {
   "cell_type": "markdown",
   "metadata": {},
   "source": [
    "### Q19 Questions: Which of the following do you think would get more people to vote in national elections? Please choose all that apply.\n",
    "\n",
    "1. More outreach to ordinary Americans from candidates or elected officials \n",
    "2. More information about the candidates from unbiased sources \n",
    "3. Making Election Day a national holiday \n",
    "4. Being automatically registered to vote \n",
    "5. Automatically receiving a ballot in the mail \n",
    "6. Being able to vote in-person before Election Day \n",
    "7. Being able to register and vote on the same day \n",
    "8. Being able to vote by phone or online \n",
    "9. Having more candidates to choose from \n",
    "10. Other [specify] [A]"
   ]
  },
  {
   "cell_type": "code",
   "execution_count": 69,
   "metadata": {},
   "outputs": [],
   "source": [
    "# nonvoter_data['Q19_1'] "
   ]
  },
  {
   "cell_type": "markdown",
   "metadata": {},
   "source": []
  },
  {
   "cell_type": "code",
   "execution_count": 70,
   "metadata": {},
   "outputs": [],
   "source": [
    "# count_1_responses = (nonvoter_data['Q19_1'] == 1).sum()\n",
    "# print(count_1_responses)"
   ]
  },
  {
   "cell_type": "markdown",
   "metadata": {},
   "source": [
    "### Q20: Are you currently registered to vote? "
   ]
  },
  {
   "cell_type": "code",
   "execution_count": 71,
   "metadata": {},
   "outputs": [],
   "source": [
    "nonvoter_data['Q20'] = nonvoter_data['Q20'].replace({1: 'Yes', 2: 'No'})\n",
    "\n",
    "# Rename the column \n",
    "nonvoter_data = nonvoter_data.rename(columns={'Q20': 'reg_vote'})"
   ]
  },
  {
   "cell_type": "markdown",
   "metadata": {},
   "source": [
    "### Q21: On November 3, 2020 there will be an election for president, members of the United States Senate, House of Representatives, and other state and local offices. Do you plan to vote in the November 2020 election? If you have already voted, please select ‘yes."
   ]
  },
  {
   "cell_type": "code",
   "execution_count": 72,
   "metadata": {},
   "outputs": [],
   "source": [
    "nonvoter_data['Q21'] = nonvoter_data['Q21'].replace({1: 'Yes', 2: 'No', 3: 'Unsure/Undecided'})\n",
    "\n",
    "# Rename the column \n",
    "nonvoter_data = nonvoter_data.rename(columns={'Q21': 'plan_vote2020'})"
   ]
  },
  {
   "cell_type": "markdown",
   "metadata": {},
   "source": [
    "### Q22 Questions: You previously indicated that you are not currently registered to vote. Which of the following reasons best describes why you are not currently registered to vote?  \n",
    "\n",
    "1. I don’t have time to register or vote \n",
    "2. I don’t trust the political system to serve my needs \n",
    "3. I don’t know how to register \n",
    "4. I don’t want to register \n",
    "5. I am not eligible to vote [please specify why] [A] \n",
    "6. I don’t think my vote matters [A] \n",
    "7. Other [SPECIFY] [A\n",
    "  \n"
   ]
  },
  {
   "cell_type": "code",
   "execution_count": 73,
   "metadata": {},
   "outputs": [],
   "source": [
    "# nonvoter_data['Q22']"
   ]
  },
  {
   "cell_type": "code",
   "execution_count": 74,
   "metadata": {},
   "outputs": [],
   "source": [
    "# response_counts = nonvoter_data['Q22'].value_counts().sort_index()\n",
    "# print(response_counts)"
   ]
  },
  {
   "cell_type": "markdown",
   "metadata": {},
   "source": [
    "### Q23: Which presidential candidate are you planning to support? "
   ]
  },
  {
   "cell_type": "code",
   "execution_count": 75,
   "metadata": {},
   "outputs": [],
   "source": [
    "nonvoter_data['Q23'] = nonvoter_data['Q23'].replace({1: 'Donald Trump', 2: 'Joe Biden', 3: 'Unsure'})\n",
    "\n",
    "# Rename the column \n",
    "nonvoter_data = nonvoter_data.rename(columns={'Q23': 'candidate2020'})"
   ]
  },
  {
   "cell_type": "markdown",
   "metadata": {},
   "source": [
    "### Q24: Regardless of your current voter registration status and plans to vote (including if you have already voted), what would be your preferred method of voting this year?"
   ]
  },
  {
   "cell_type": "code",
   "execution_count": 76,
   "metadata": {},
   "outputs": [],
   "source": [
    "nonvoter_data['Q24'] = nonvoter_data['Q24'].replace({1: 'Mail-in or absentee ballot', 2: 'In-person before Election Day', 3: 'In-person on Election Day', 4: 'Other [please specify] [A]'})\n",
    "\n",
    "# Rename the column \n",
    "nonvoter_data = nonvoter_data.rename(columns={'Q24': 'pref_votemethod'})"
   ]
  },
  {
   "cell_type": "code",
   "execution_count": 77,
   "metadata": {},
   "outputs": [],
   "source": [
    "# response_counts = nonvoter_data['pref_votemethod'].value_counts()\n",
    "\n",
    "# # Display the counts for each string response\n",
    "# print(response_counts)"
   ]
  },
  {
   "cell_type": "markdown",
   "metadata": {},
   "source": [
    "### Q25:  How closely are you following the 2020 presidential race?"
   ]
  },
  {
   "cell_type": "code",
   "execution_count": 78,
   "metadata": {},
   "outputs": [],
   "source": [
    "nonvoter_data['Q25'] = nonvoter_data['Q25'].replace({1: 'Very closely', 2: 'Somewhat closely', 3: 'Not very closely', 4: 'Not closely at all'})\n",
    "\n",
    "# Rename the column \n",
    "nonvoter_data = nonvoter_data.rename(columns={'Q25': 'follow_2020elect'})"
   ]
  },
  {
   "cell_type": "markdown",
   "metadata": {},
   "source": [
    "### Q26: Most eligible citizens don’t vote in every national election (the November general elections). In general, which of the following categories do you think best describes you"
   ]
  },
  {
   "cell_type": "code",
   "execution_count": 79,
   "metadata": {},
   "outputs": [],
   "source": [
    "nonvoter_data['Q26'] = nonvoter_data['Q26'].replace({1: 'I always, or almost always, vote in national elections', 2: 'I sometimes vote in national elections', 3: 'I rarely vote in national elections', 4: 'I dont vote'})\n",
    "\n",
    "# Rename the column \n",
    "nonvoter_data = nonvoter_data.rename(columns={'Q26': 'voting_beh'})"
   ]
  },
  {
   "cell_type": "markdown",
   "metadata": {},
   "source": [
    "### Q27: Thinking back to some recent elections, as best you remember, did you vote in the following elections? "
   ]
  },
  {
   "cell_type": "markdown",
   "metadata": {},
   "source": [
    "#### Q27_1 - The election for Congress in 2018"
   ]
  },
  {
   "cell_type": "code",
   "execution_count": 80,
   "metadata": {},
   "outputs": [],
   "source": [
    "nonvoter_data['Q27_1'] = nonvoter_data['Q27_1'].replace({1: 'Yes', 2: 'No'})\n",
    "\n",
    "# Rename the column \n",
    "nonvoter_data = nonvoter_data.rename(columns={'Q27_1': 'voting_2018'})"
   ]
  },
  {
   "cell_type": "markdown",
   "metadata": {},
   "source": [
    "#### Q27_2 - The presidential election in 2016"
   ]
  },
  {
   "cell_type": "code",
   "execution_count": 81,
   "metadata": {},
   "outputs": [],
   "source": [
    "nonvoter_data['Q27_2'] = nonvoter_data['Q27_2'].replace({1: 'Yes', 2: 'No'})\n",
    "\n",
    "# Rename the column \n",
    "nonvoter_data = nonvoter_data.rename(columns={'Q27_2': 'voting_2016'})"
   ]
  },
  {
   "cell_type": "markdown",
   "metadata": {},
   "source": [
    "#### Q27_3 - The presidential election in 2014"
   ]
  },
  {
   "cell_type": "code",
   "execution_count": 82,
   "metadata": {},
   "outputs": [],
   "source": [
    "nonvoter_data['Q27_3'] = nonvoter_data['Q27_3'].replace({1: 'Yes', 2: 'No'})\n",
    "\n",
    "# Rename the column \n",
    "nonvoter_data = nonvoter_data.rename(columns={'Q27_3': 'voting_2014'})"
   ]
  },
  {
   "cell_type": "markdown",
   "metadata": {},
   "source": [
    "#### Q27_4 - The presidential election in 2012"
   ]
  },
  {
   "cell_type": "code",
   "execution_count": 83,
   "metadata": {},
   "outputs": [],
   "source": [
    "nonvoter_data['Q27_4'] = nonvoter_data['Q27_4'].replace({1: 'Yes', 2: 'No'})\n",
    "\n",
    "# Rename the column \n",
    "nonvoter_data = nonvoter_data.rename(columns={'Q27_4': 'voting_2012'})"
   ]
  },
  {
   "cell_type": "markdown",
   "metadata": {},
   "source": [
    "#### Q27_5 - The presidential election in 2010"
   ]
  },
  {
   "cell_type": "code",
   "execution_count": 84,
   "metadata": {},
   "outputs": [],
   "source": [
    "nonvoter_data['Q27_5'] = nonvoter_data['Q27_5'].replace({1: 'Yes', 2: 'No'})\n",
    "\n",
    "# Rename the column \n",
    "nonvoter_data = nonvoter_data.rename(columns={'Q27_5': 'voting_2010'})"
   ]
  },
  {
   "cell_type": "markdown",
   "metadata": {},
   "source": [
    "#### Q27_6 - The presidential election in 2008"
   ]
  },
  {
   "cell_type": "code",
   "execution_count": 85,
   "metadata": {},
   "outputs": [],
   "source": [
    "nonvoter_data['Q27_6'] = nonvoter_data['Q27_6'].replace({1: 'Yes', 2: 'No'})\n",
    "\n",
    "# Rename the column \n",
    "nonvoter_data = nonvoter_data.rename(columns={'Q27_6': 'voting_2008'})"
   ]
  },
  {
   "cell_type": "markdown",
   "metadata": {},
   "source": [
    "### Q28 Questions: Thinking back to the last few national elections that you voted in, which of the following were the most important reasons in your decision to vote? Please choose all that apply.\n",
    "\n",
    "1. Voting is an important civic duty \n",
    "2. I was excited about one of the candidates and wanted to vote for him/her \n",
    "3. I disliked one of the candidates and wanted to vote against him/her \n",
    "4. I wanted to support the political party I identify with \n",
    "5. There was a specific issue I cared about, and one of the candidates was better on that \n",
    "issue \n",
    "6. I enjoy voting \n",
    "7. Voting is easy \n",
    "8. Other [specify] [A] "
   ]
  },
  {
   "cell_type": "markdown",
   "metadata": {},
   "source": [
    "### Q29 Questions: Thinking back to the last few national elections where you decided ​not​ to vote, which of the following were the most important reasons in your decision not to vote? Please choose all that apply.\n",
    "\n",
    "1. I didn’t like any of the candidates \n",
    "2. Because of where I live, my vote doesn’t matter \n",
    "3. No matter who wins, nothing will change for people like me \n",
    "4. Our system is too broken to be fixed by voting \n",
    "5. I wanted to vote, but I didn’t have time, couldn’t get off work, something came up, or I \n",
    "forgot \n",
    "6. I’m not sure if I can vote \n",
    "7. Nobody talks about the issues that are important to me personally \n",
    "8. All the candidates are the same  \n",
    "9. I don’t believe in voting \n",
    "10. Other [specify] [A] "
   ]
  },
  {
   "cell_type": "code",
   "execution_count": 86,
   "metadata": {},
   "outputs": [],
   "source": [
    "# response_counts = nonvoter_data['Q29_1'].value_counts()\n",
    "\n",
    "# # Display the counts for each string response\n",
    "# print(response_counts)\n",
    "\n",
    "for i in range(1, 11):\n",
    "    col_name = f'Count_Q29_{i}'\n",
    "    nonvoter_data[col_name] = nonvoter_data[f'Q29_{i}'].apply(lambda x: 1 if x == 1 else 0)\n",
    "\n",
    "# Sum the counts for each response\n",
    "counts = nonvoter_data[[f'Count_Q29_{i}' for i in range(1, 11)]].sum()\n",
    "\n",
    "# Display the counts for each response\n",
    "# print(counts)"
   ]
  },
  {
   "cell_type": "markdown",
   "metadata": {},
   "source": [
    "### Q30:  Generally speaking, do you think of yourself as a...Select one answer only. "
   ]
  },
  {
   "cell_type": "code",
   "execution_count": 87,
   "metadata": {},
   "outputs": [],
   "source": [
    "nonvoter_data['Q30'] = nonvoter_data['Q30'].replace({1: 'Republican', 2: 'Democrat', 3: 'Independent', 4: 'Another party, please specify ...[O]', 5: 'No preference'})\n",
    "\n",
    "# Rename the column \n",
    "nonvoter_data = nonvoter_data.rename(columns={'Q30': 'party_identify'})"
   ]
  },
  {
   "cell_type": "code",
   "execution_count": 88,
   "metadata": {},
   "outputs": [
    {
     "name": "stdout",
     "output_type": "stream",
     "text": [
      "party_identify\n",
      "Democrat                                2002\n",
      "Republican                              1592\n",
      "Independent                             1425\n",
      "No preference                            670\n",
      "Another party, please specify ...[O]      99\n",
      "-1                                        48\n",
      "Name: count, dtype: int64\n"
     ]
    }
   ],
   "source": [
    "response_counts = nonvoter_data['party_identify'].value_counts()\n",
    "\n",
    "# # Display the counts for each string response\n",
    "print(response_counts)"
   ]
  },
  {
   "cell_type": "code",
   "execution_count": 89,
   "metadata": {},
   "outputs": [],
   "source": [
    "# contingency_table = pd.crosstab(nonvoter_data['ease_voting'], nonvoter_data['party_identify'])\n",
    "# print(contingency_table)"
   ]
  },
  {
   "cell_type": "markdown",
   "metadata": {},
   "source": [
    "### ***ASK Q31 IF REPUBLICAN IN Q30***"
   ]
  },
  {
   "cell_type": "markdown",
   "metadata": {},
   "source": [
    "### Q31:  Would you call yourself a..."
   ]
  },
  {
   "cell_type": "code",
   "execution_count": 90,
   "metadata": {},
   "outputs": [],
   "source": [
    "nonvoter_data['Q31'] = nonvoter_data['Q31'].replace({1: 'Strong Republican', 2: 'Not very strong Republican'})\n",
    "\n",
    "# Rename the column \n",
    "nonvoter_data = nonvoter_data.rename(columns={'Q31': 'repub_identify'})"
   ]
  },
  {
   "cell_type": "markdown",
   "metadata": {},
   "source": [
    "#### ***ASK Q32 IF DEMOCRAT IN Q30***"
   ]
  },
  {
   "cell_type": "markdown",
   "metadata": {},
   "source": [
    "### Q32:  Would you call yourself a..."
   ]
  },
  {
   "cell_type": "code",
   "execution_count": 91,
   "metadata": {},
   "outputs": [],
   "source": [
    "nonvoter_data['Q32'] = nonvoter_data['Q32'].replace({1: 'Strong Democrat', 2: 'Not very strong Democrat'})\n",
    "\n",
    "# Rename the column \n",
    "nonvoter_data = nonvoter_data.rename(columns={'Q32': 'dem_identify'})"
   ]
  },
  {
   "cell_type": "markdown",
   "metadata": {},
   "source": [
    "#### ***ASK Q33 IF INDEPENDENT, ANOTHER PARTY, HAVE NO PARTY PREFERENCE OR REFUSED IN Q30***"
   ]
  },
  {
   "cell_type": "markdown",
   "metadata": {},
   "source": [
    "### Q33:  Do you think of yourself as closer to the..."
   ]
  },
  {
   "cell_type": "code",
   "execution_count": 92,
   "metadata": {},
   "outputs": [],
   "source": [
    "nonvoter_data['Q33'] = nonvoter_data['Q33'].replace({1: 'Republican Party', 2: 'Democratic Party'})\n",
    "\n",
    "# Rename the column \n",
    "nonvoter_data = nonvoter_data.rename(columns={'Q33': 'unsure_identify'})"
   ]
  },
  {
   "cell_type": "markdown",
   "metadata": {},
   "source": [
    "### Demographic Variables"
   ]
  },
  {
   "cell_type": "markdown",
   "metadata": {},
   "source": [
    "#### Age of respondent "
   ]
  },
  {
   "cell_type": "code",
   "execution_count": 93,
   "metadata": {},
   "outputs": [
    {
     "data": {
      "text/plain": [
       "0       73\n",
       "1       90\n",
       "2       53\n",
       "3       58\n",
       "4       81\n",
       "        ..\n",
       "5831    27\n",
       "5832    59\n",
       "5833    51\n",
       "5834    22\n",
       "5835    22\n",
       "Name: ppage, Length: 5836, dtype: int64"
      ]
     },
     "execution_count": 93,
     "metadata": {},
     "output_type": "execute_result"
    }
   ],
   "source": [
    "nonvoter_data['ppage']"
   ]
  },
  {
   "cell_type": "code",
   "execution_count": 94,
   "metadata": {},
   "outputs": [
    {
     "data": {
      "text/plain": [
       "array([73, 90, 53, 58, 81, 61, 80, 68, 70, 83, 43, 42, 48, 52, 76, 63, 46,\n",
       "       62, 84, 71, 50, 77, 67, 54, 47, 87, 55, 64, 82, 66, 75, 59, 44, 36,\n",
       "       56, 57, 29, 38, 26, 27, 28, 49, 72, 39, 40, 74, 65, 89, 69, 79, 30,\n",
       "       41, 78, 60, 25, 22, 88, 31, 35, 85, 32, 51, 45, 86, 37, 92, 33, 24,\n",
       "       34, 23, 94, 91])"
      ]
     },
     "execution_count": 94,
     "metadata": {},
     "output_type": "execute_result"
    }
   ],
   "source": [
    "nonvoter_data['ppage'].unique()"
   ]
  },
  {
   "cell_type": "code",
   "execution_count": 95,
   "metadata": {},
   "outputs": [],
   "source": [
    "# Age-specific categories\n",
    "nonvoter_data['age_group'] = pd.cut(nonvoter_data['ppage'], bins=[18, 29, 44, 59, 74, 89, 104], labels=['18-29', '30-44', '45-59', '60-74', '75-89', '90-104'])"
   ]
  },
  {
   "cell_type": "code",
   "execution_count": 96,
   "metadata": {},
   "outputs": [
    {
     "data": {
      "text/plain": [
       "age_group\n",
       "60-74     1712\n",
       "45-59     1472\n",
       "30-44     1251\n",
       "18-29      907\n",
       "75-89      484\n",
       "90-104      10\n",
       "Name: count, dtype: int64"
      ]
     },
     "execution_count": 96,
     "metadata": {},
     "output_type": "execute_result"
    }
   ],
   "source": [
    "nonvoter_data['age_group'].value_counts()"
   ]
  },
  {
   "cell_type": "markdown",
   "metadata": {},
   "source": [
    "### Gender of respondent "
   ]
  },
  {
   "cell_type": "code",
   "execution_count": 104,
   "metadata": {},
   "outputs": [
    {
     "data": {
      "text/plain": [
       "array(['Female', 'Male'], dtype=object)"
      ]
     },
     "execution_count": 104,
     "metadata": {},
     "output_type": "execute_result"
    }
   ],
   "source": [
    "nonvoter_data['gender'].unique()"
   ]
  },
  {
   "cell_type": "markdown",
   "metadata": {},
   "source": [
    "### Highest educational attainment category. Note: Associate’s degree is grouped in “some college.”"
   ]
  },
  {
   "cell_type": "code",
   "execution_count": 98,
   "metadata": {},
   "outputs": [
    {
     "data": {
      "text/plain": [
       "0                   College\n",
       "1                   College\n",
       "2                   College\n",
       "3              Some college\n",
       "4       High school or less\n",
       "               ...         \n",
       "5831           Some college\n",
       "5832    High school or less\n",
       "5833                College\n",
       "5834    High school or less\n",
       "5835    High school or less\n",
       "Name: educ, Length: 5836, dtype: object"
      ]
     },
     "execution_count": 98,
     "metadata": {},
     "output_type": "execute_result"
    }
   ],
   "source": [
    "nonvoter_data['educ']"
   ]
  },
  {
   "cell_type": "markdown",
   "metadata": {},
   "source": [
    "### Race of respondent, census categories. Note: all categories except Hispanic are non-Hispanic."
   ]
  },
  {
   "cell_type": "code",
   "execution_count": 99,
   "metadata": {},
   "outputs": [],
   "source": [
    "# nonvoter_data['race']"
   ]
  },
  {
   "cell_type": "markdown",
   "metadata": {},
   "source": [
    "### Household income category of respondent "
   ]
  },
  {
   "cell_type": "code",
   "execution_count": 100,
   "metadata": {},
   "outputs": [],
   "source": [
    "# nonvoter_data['income_cat']"
   ]
  },
  {
   "cell_type": "markdown",
   "metadata": {},
   "source": [
    "### Voter category of respondent \n",
    "\n",
    "always: respondent voted in all or all-but-one of the elections they were eligible in \n",
    "\n",
    "\n",
    "sporadic: respondent voted in at least two, but fewer than all-but-one of the elections they were eligible in \n",
    "\n",
    "\n",
    "rarely/never: respondent voted in 0 or 1 of the elections they were eligible in "
   ]
  },
  {
   "cell_type": "code",
   "execution_count": 101,
   "metadata": {},
   "outputs": [],
   "source": [
    "# nonvoter_data['voter_category']"
   ]
  },
  {
   "cell_type": "markdown",
   "metadata": {},
   "source": [
    "### Save New DF"
   ]
  },
  {
   "cell_type": "code",
   "execution_count": 102,
   "metadata": {},
   "outputs": [],
   "source": [
    "nonvoter_data.to_csv('./nonvoters_data_new.csv', index=False)"
   ]
  }
 ],
 "metadata": {
  "kernelspec": {
   "display_name": "Python 3",
   "language": "python",
   "name": "python3"
  },
  "language_info": {
   "codemirror_mode": {
    "name": "ipython",
    "version": 3
   },
   "file_extension": ".py",
   "mimetype": "text/x-python",
   "name": "python",
   "nbconvert_exporter": "python",
   "pygments_lexer": "ipython3",
   "version": "3.11.5"
  }
 },
 "nbformat": 4,
 "nbformat_minor": 2
}
